{
 "cells": [
  {
   "cell_type": "markdown",
   "id": "84774a70",
   "metadata": {},
   "source": [
    "# COVID-19 Data in Barbados for 2020"
   ]
  },
  {
   "cell_type": "markdown",
   "id": "55f5547a",
   "metadata": {},
   "source": [
    "![Barbados Flag](https://cdn.britannica.com/08/5108-004-FD58C8EF/Flag-Barbados.jpg)"
   ]
  },
  {
   "cell_type": "code",
   "execution_count": 5,
   "id": "7662fb26",
   "metadata": {},
   "outputs": [],
   "source": [
    "%matplotlib inline\n",
    "import pandas"
   ]
  },
  {
   "cell_type": "markdown",
   "id": "2fc46226",
   "metadata": {},
   "source": [
    "# Background of COVID-19"
   ]
  },
  {
   "cell_type": "markdown",
   "id": "5c0a5f9e",
   "metadata": {},
   "source": [
    "COVID-19 (coronavirus disease 2019) is a disease caused by a virus named SARS-CoV-2 and was discovered in December 2019 in Wuhan, China. It is very contagious and has quickly spread around the world."
   ]
  },
  {
   "cell_type": "markdown",
   "id": "85834023",
   "metadata": {},
   "source": [
    "# Data Source "
   ]
  },
  {
   "cell_type": "markdown",
   "id": "b71a74f7",
   "metadata": {},
   "source": [
    "The data is from Barbados Barbados: COVID-19 Pandemic Country Profile \n",
    "\n",
    "https://ourworldindata.org/coronavirus/country/barbados"
   ]
  },
  {
   "cell_type": "markdown",
   "id": "370e80fa",
   "metadata": {},
   "source": [
    "# A Quick View of the Data\n"
   ]
  },
  {
   "cell_type": "markdown",
   "id": "1f272c8d",
   "metadata": {},
   "source": [
    "This is a look into the data collected by the data source (Our World in Data) as it focused it efforts to gather COVID-19 data from various countries around the world."
   ]
  },
  {
   "cell_type": "code",
   "execution_count": 10,
   "id": "a6cdc30f",
   "metadata": {},
   "outputs": [
    {
     "data": {
      "text/html": [
       "<div>\n",
       "<style scoped>\n",
       "    .dataframe tbody tr th:only-of-type {\n",
       "        vertical-align: middle;\n",
       "    }\n",
       "\n",
       "    .dataframe tbody tr th {\n",
       "        vertical-align: top;\n",
       "    }\n",
       "\n",
       "    .dataframe thead th {\n",
       "        text-align: right;\n",
       "    }\n",
       "</style>\n",
       "<table border=\"1\" class=\"dataframe\">\n",
       "  <thead>\n",
       "    <tr style=\"text-align: right;\">\n",
       "      <th></th>\n",
       "      <th>dateRep</th>\n",
       "      <th>day</th>\n",
       "      <th>month</th>\n",
       "      <th>year</th>\n",
       "      <th>cases</th>\n",
       "      <th>deaths</th>\n",
       "      <th>countriesAndTerritories</th>\n",
       "      <th>geoId</th>\n",
       "      <th>countryterritoryCode</th>\n",
       "      <th>popData2019</th>\n",
       "      <th>continentExp</th>\n",
       "      <th>Cumulative_number_for_14_days_of_COVID-19_cases_per_100000</th>\n",
       "    </tr>\n",
       "  </thead>\n",
       "  <tbody>\n",
       "    <tr>\n",
       "      <th>0</th>\n",
       "      <td>14/12/2020</td>\n",
       "      <td>14</td>\n",
       "      <td>12</td>\n",
       "      <td>2020</td>\n",
       "      <td>746</td>\n",
       "      <td>6</td>\n",
       "      <td>Afghanistan</td>\n",
       "      <td>AF</td>\n",
       "      <td>AFG</td>\n",
       "      <td>38041757.0</td>\n",
       "      <td>Asia</td>\n",
       "      <td>9.013779</td>\n",
       "    </tr>\n",
       "    <tr>\n",
       "      <th>1</th>\n",
       "      <td>13/12/2020</td>\n",
       "      <td>13</td>\n",
       "      <td>12</td>\n",
       "      <td>2020</td>\n",
       "      <td>298</td>\n",
       "      <td>9</td>\n",
       "      <td>Afghanistan</td>\n",
       "      <td>AF</td>\n",
       "      <td>AFG</td>\n",
       "      <td>38041757.0</td>\n",
       "      <td>Asia</td>\n",
       "      <td>7.052776</td>\n",
       "    </tr>\n",
       "    <tr>\n",
       "      <th>2</th>\n",
       "      <td>2020-12-12 00:00:00</td>\n",
       "      <td>12</td>\n",
       "      <td>12</td>\n",
       "      <td>2020</td>\n",
       "      <td>113</td>\n",
       "      <td>11</td>\n",
       "      <td>Afghanistan</td>\n",
       "      <td>AF</td>\n",
       "      <td>AFG</td>\n",
       "      <td>38041757.0</td>\n",
       "      <td>Asia</td>\n",
       "      <td>6.868768</td>\n",
       "    </tr>\n",
       "    <tr>\n",
       "      <th>3</th>\n",
       "      <td>2020-11-12 00:00:00</td>\n",
       "      <td>11</td>\n",
       "      <td>12</td>\n",
       "      <td>2020</td>\n",
       "      <td>63</td>\n",
       "      <td>10</td>\n",
       "      <td>Afghanistan</td>\n",
       "      <td>AF</td>\n",
       "      <td>AFG</td>\n",
       "      <td>38041757.0</td>\n",
       "      <td>Asia</td>\n",
       "      <td>7.134266</td>\n",
       "    </tr>\n",
       "    <tr>\n",
       "      <th>4</th>\n",
       "      <td>2020-10-12 00:00:00</td>\n",
       "      <td>10</td>\n",
       "      <td>12</td>\n",
       "      <td>2020</td>\n",
       "      <td>202</td>\n",
       "      <td>16</td>\n",
       "      <td>Afghanistan</td>\n",
       "      <td>AF</td>\n",
       "      <td>AFG</td>\n",
       "      <td>38041757.0</td>\n",
       "      <td>Asia</td>\n",
       "      <td>6.968658</td>\n",
       "    </tr>\n",
       "    <tr>\n",
       "      <th>5</th>\n",
       "      <td>2020-09-12 00:00:00</td>\n",
       "      <td>9</td>\n",
       "      <td>12</td>\n",
       "      <td>2020</td>\n",
       "      <td>135</td>\n",
       "      <td>13</td>\n",
       "      <td>Afghanistan</td>\n",
       "      <td>AF</td>\n",
       "      <td>AFG</td>\n",
       "      <td>38041757.0</td>\n",
       "      <td>Asia</td>\n",
       "      <td>6.963401</td>\n",
       "    </tr>\n",
       "    <tr>\n",
       "      <th>6</th>\n",
       "      <td>2020-08-12 00:00:00</td>\n",
       "      <td>8</td>\n",
       "      <td>12</td>\n",
       "      <td>2020</td>\n",
       "      <td>200</td>\n",
       "      <td>6</td>\n",
       "      <td>Afghanistan</td>\n",
       "      <td>AF</td>\n",
       "      <td>AFG</td>\n",
       "      <td>38041757.0</td>\n",
       "      <td>Asia</td>\n",
       "      <td>7.094835</td>\n",
       "    </tr>\n",
       "    <tr>\n",
       "      <th>7</th>\n",
       "      <td>2020-07-12 00:00:00</td>\n",
       "      <td>7</td>\n",
       "      <td>12</td>\n",
       "      <td>2020</td>\n",
       "      <td>210</td>\n",
       "      <td>26</td>\n",
       "      <td>Afghanistan</td>\n",
       "      <td>AF</td>\n",
       "      <td>AFG</td>\n",
       "      <td>38041757.0</td>\n",
       "      <td>Asia</td>\n",
       "      <td>7.215755</td>\n",
       "    </tr>\n",
       "    <tr>\n",
       "      <th>8</th>\n",
       "      <td>2020-06-12 00:00:00</td>\n",
       "      <td>6</td>\n",
       "      <td>12</td>\n",
       "      <td>2020</td>\n",
       "      <td>234</td>\n",
       "      <td>10</td>\n",
       "      <td>Afghanistan</td>\n",
       "      <td>AF</td>\n",
       "      <td>AFG</td>\n",
       "      <td>38041757.0</td>\n",
       "      <td>Asia</td>\n",
       "      <td>7.326160</td>\n",
       "    </tr>\n",
       "    <tr>\n",
       "      <th>9</th>\n",
       "      <td>2020-05-12 00:00:00</td>\n",
       "      <td>5</td>\n",
       "      <td>12</td>\n",
       "      <td>2020</td>\n",
       "      <td>235</td>\n",
       "      <td>18</td>\n",
       "      <td>Afghanistan</td>\n",
       "      <td>AF</td>\n",
       "      <td>AFG</td>\n",
       "      <td>38041757.0</td>\n",
       "      <td>Asia</td>\n",
       "      <td>7.115865</td>\n",
       "    </tr>\n",
       "  </tbody>\n",
       "</table>\n",
       "</div>"
      ],
      "text/plain": [
       "               dateRep  day  month  year  cases  deaths  \\\n",
       "0           14/12/2020   14     12  2020    746       6   \n",
       "1           13/12/2020   13     12  2020    298       9   \n",
       "2  2020-12-12 00:00:00   12     12  2020    113      11   \n",
       "3  2020-11-12 00:00:00   11     12  2020     63      10   \n",
       "4  2020-10-12 00:00:00   10     12  2020    202      16   \n",
       "5  2020-09-12 00:00:00    9     12  2020    135      13   \n",
       "6  2020-08-12 00:00:00    8     12  2020    200       6   \n",
       "7  2020-07-12 00:00:00    7     12  2020    210      26   \n",
       "8  2020-06-12 00:00:00    6     12  2020    234      10   \n",
       "9  2020-05-12 00:00:00    5     12  2020    235      18   \n",
       "\n",
       "  countriesAndTerritories geoId countryterritoryCode  popData2019  \\\n",
       "0             Afghanistan    AF                  AFG   38041757.0   \n",
       "1             Afghanistan    AF                  AFG   38041757.0   \n",
       "2             Afghanistan    AF                  AFG   38041757.0   \n",
       "3             Afghanistan    AF                  AFG   38041757.0   \n",
       "4             Afghanistan    AF                  AFG   38041757.0   \n",
       "5             Afghanistan    AF                  AFG   38041757.0   \n",
       "6             Afghanistan    AF                  AFG   38041757.0   \n",
       "7             Afghanistan    AF                  AFG   38041757.0   \n",
       "8             Afghanistan    AF                  AFG   38041757.0   \n",
       "9             Afghanistan    AF                  AFG   38041757.0   \n",
       "\n",
       "  continentExp  Cumulative_number_for_14_days_of_COVID-19_cases_per_100000  \n",
       "0         Asia                                           9.013779           \n",
       "1         Asia                                           7.052776           \n",
       "2         Asia                                           6.868768           \n",
       "3         Asia                                           7.134266           \n",
       "4         Asia                                           6.968658           \n",
       "5         Asia                                           6.963401           \n",
       "6         Asia                                           7.094835           \n",
       "7         Asia                                           7.215755           \n",
       "8         Asia                                           7.326160           \n",
       "9         Asia                                           7.115865           "
      ]
     },
     "execution_count": 10,
     "metadata": {},
     "output_type": "execute_result"
    }
   ],
   "source": [
    "df = pandas.read_excel('s3://ia241-matthias-newspring22/covid_data.xls')\n",
    "df[:10]"
   ]
  },
  {
   "cell_type": "markdown",
   "id": "31b95410",
   "metadata": {},
   "source": [
    "# A Quick View of Spain's COVID-19 Data\n"
   ]
  },
  {
   "cell_type": "markdown",
   "id": "de35bc5a",
   "metadata": {},
   "source": [
    "This is a look into the data collected for Spain by the data source (Our World in Data)."
   ]
  },
  {
   "cell_type": "code",
   "execution_count": 13,
   "id": "aee16131",
   "metadata": {},
   "outputs": [
    {
     "data": {
      "text/html": [
       "<div>\n",
       "<style scoped>\n",
       "    .dataframe tbody tr th:only-of-type {\n",
       "        vertical-align: middle;\n",
       "    }\n",
       "\n",
       "    .dataframe tbody tr th {\n",
       "        vertical-align: top;\n",
       "    }\n",
       "\n",
       "    .dataframe thead th {\n",
       "        text-align: right;\n",
       "    }\n",
       "</style>\n",
       "<table border=\"1\" class=\"dataframe\">\n",
       "  <thead>\n",
       "    <tr style=\"text-align: right;\">\n",
       "      <th></th>\n",
       "      <th>dateRep</th>\n",
       "      <th>day</th>\n",
       "      <th>month</th>\n",
       "      <th>year</th>\n",
       "      <th>cases</th>\n",
       "      <th>deaths</th>\n",
       "      <th>countriesAndTerritories</th>\n",
       "      <th>geoId</th>\n",
       "      <th>countryterritoryCode</th>\n",
       "      <th>popData2019</th>\n",
       "      <th>continentExp</th>\n",
       "      <th>Cumulative_number_for_14_days_of_COVID-19_cases_per_100000</th>\n",
       "    </tr>\n",
       "  </thead>\n",
       "  <tbody>\n",
       "    <tr>\n",
       "      <th>4873</th>\n",
       "      <td>14/12/2020</td>\n",
       "      <td>14</td>\n",
       "      <td>12</td>\n",
       "      <td>2020</td>\n",
       "      <td>0</td>\n",
       "      <td>0</td>\n",
       "      <td>Barbados</td>\n",
       "      <td>BB</td>\n",
       "      <td>BRB</td>\n",
       "      <td>287021.0</td>\n",
       "      <td>America</td>\n",
       "      <td>5.922912</td>\n",
       "    </tr>\n",
       "    <tr>\n",
       "      <th>4874</th>\n",
       "      <td>13/12/2020</td>\n",
       "      <td>13</td>\n",
       "      <td>12</td>\n",
       "      <td>2020</td>\n",
       "      <td>0</td>\n",
       "      <td>0</td>\n",
       "      <td>Barbados</td>\n",
       "      <td>BB</td>\n",
       "      <td>BRB</td>\n",
       "      <td>287021.0</td>\n",
       "      <td>America</td>\n",
       "      <td>7.664944</td>\n",
       "    </tr>\n",
       "    <tr>\n",
       "      <th>4875</th>\n",
       "      <td>2020-12-12 00:00:00</td>\n",
       "      <td>12</td>\n",
       "      <td>12</td>\n",
       "      <td>2020</td>\n",
       "      <td>1</td>\n",
       "      <td>0</td>\n",
       "      <td>Barbados</td>\n",
       "      <td>BB</td>\n",
       "      <td>BRB</td>\n",
       "      <td>287021.0</td>\n",
       "      <td>America</td>\n",
       "      <td>7.664944</td>\n",
       "    </tr>\n",
       "    <tr>\n",
       "      <th>4876</th>\n",
       "      <td>2020-11-12 00:00:00</td>\n",
       "      <td>11</td>\n",
       "      <td>12</td>\n",
       "      <td>2020</td>\n",
       "      <td>1</td>\n",
       "      <td>0</td>\n",
       "      <td>Barbados</td>\n",
       "      <td>BB</td>\n",
       "      <td>BRB</td>\n",
       "      <td>287021.0</td>\n",
       "      <td>America</td>\n",
       "      <td>8.710164</td>\n",
       "    </tr>\n",
       "    <tr>\n",
       "      <th>4877</th>\n",
       "      <td>2020-10-12 00:00:00</td>\n",
       "      <td>10</td>\n",
       "      <td>12</td>\n",
       "      <td>2020</td>\n",
       "      <td>0</td>\n",
       "      <td>0</td>\n",
       "      <td>Barbados</td>\n",
       "      <td>BB</td>\n",
       "      <td>BRB</td>\n",
       "      <td>287021.0</td>\n",
       "      <td>America</td>\n",
       "      <td>9.406977</td>\n",
       "    </tr>\n",
       "    <tr>\n",
       "      <th>4878</th>\n",
       "      <td>2020-09-12 00:00:00</td>\n",
       "      <td>9</td>\n",
       "      <td>12</td>\n",
       "      <td>2020</td>\n",
       "      <td>1</td>\n",
       "      <td>0</td>\n",
       "      <td>Barbados</td>\n",
       "      <td>BB</td>\n",
       "      <td>BRB</td>\n",
       "      <td>287021.0</td>\n",
       "      <td>America</td>\n",
       "      <td>9.755384</td>\n",
       "    </tr>\n",
       "    <tr>\n",
       "      <th>4879</th>\n",
       "      <td>2020-08-12 00:00:00</td>\n",
       "      <td>8</td>\n",
       "      <td>12</td>\n",
       "      <td>2020</td>\n",
       "      <td>2</td>\n",
       "      <td>0</td>\n",
       "      <td>Barbados</td>\n",
       "      <td>BB</td>\n",
       "      <td>BRB</td>\n",
       "      <td>287021.0</td>\n",
       "      <td>America</td>\n",
       "      <td>10.103790</td>\n",
       "    </tr>\n",
       "    <tr>\n",
       "      <th>4880</th>\n",
       "      <td>2020-07-12 00:00:00</td>\n",
       "      <td>7</td>\n",
       "      <td>12</td>\n",
       "      <td>2020</td>\n",
       "      <td>2</td>\n",
       "      <td>0</td>\n",
       "      <td>Barbados</td>\n",
       "      <td>BB</td>\n",
       "      <td>BRB</td>\n",
       "      <td>287021.0</td>\n",
       "      <td>America</td>\n",
       "      <td>9.755384</td>\n",
       "    </tr>\n",
       "    <tr>\n",
       "      <th>4881</th>\n",
       "      <td>2020-06-12 00:00:00</td>\n",
       "      <td>6</td>\n",
       "      <td>12</td>\n",
       "      <td>2020</td>\n",
       "      <td>1</td>\n",
       "      <td>0</td>\n",
       "      <td>Barbados</td>\n",
       "      <td>BB</td>\n",
       "      <td>BRB</td>\n",
       "      <td>287021.0</td>\n",
       "      <td>America</td>\n",
       "      <td>10.452197</td>\n",
       "    </tr>\n",
       "    <tr>\n",
       "      <th>4882</th>\n",
       "      <td>2020-05-12 00:00:00</td>\n",
       "      <td>5</td>\n",
       "      <td>12</td>\n",
       "      <td>2020</td>\n",
       "      <td>3</td>\n",
       "      <td>0</td>\n",
       "      <td>Barbados</td>\n",
       "      <td>BB</td>\n",
       "      <td>BRB</td>\n",
       "      <td>287021.0</td>\n",
       "      <td>America</td>\n",
       "      <td>10.800603</td>\n",
       "    </tr>\n",
       "  </tbody>\n",
       "</table>\n",
       "</div>"
      ],
      "text/plain": [
       "                  dateRep  day  month  year  cases  deaths  \\\n",
       "4873           14/12/2020   14     12  2020      0       0   \n",
       "4874           13/12/2020   13     12  2020      0       0   \n",
       "4875  2020-12-12 00:00:00   12     12  2020      1       0   \n",
       "4876  2020-11-12 00:00:00   11     12  2020      1       0   \n",
       "4877  2020-10-12 00:00:00   10     12  2020      0       0   \n",
       "4878  2020-09-12 00:00:00    9     12  2020      1       0   \n",
       "4879  2020-08-12 00:00:00    8     12  2020      2       0   \n",
       "4880  2020-07-12 00:00:00    7     12  2020      2       0   \n",
       "4881  2020-06-12 00:00:00    6     12  2020      1       0   \n",
       "4882  2020-05-12 00:00:00    5     12  2020      3       0   \n",
       "\n",
       "     countriesAndTerritories geoId countryterritoryCode  popData2019  \\\n",
       "4873                Barbados    BB                  BRB     287021.0   \n",
       "4874                Barbados    BB                  BRB     287021.0   \n",
       "4875                Barbados    BB                  BRB     287021.0   \n",
       "4876                Barbados    BB                  BRB     287021.0   \n",
       "4877                Barbados    BB                  BRB     287021.0   \n",
       "4878                Barbados    BB                  BRB     287021.0   \n",
       "4879                Barbados    BB                  BRB     287021.0   \n",
       "4880                Barbados    BB                  BRB     287021.0   \n",
       "4881                Barbados    BB                  BRB     287021.0   \n",
       "4882                Barbados    BB                  BRB     287021.0   \n",
       "\n",
       "     continentExp  Cumulative_number_for_14_days_of_COVID-19_cases_per_100000  \n",
       "4873      America                                           5.922912           \n",
       "4874      America                                           7.664944           \n",
       "4875      America                                           7.664944           \n",
       "4876      America                                           8.710164           \n",
       "4877      America                                           9.406977           \n",
       "4878      America                                           9.755384           \n",
       "4879      America                                          10.103790           \n",
       "4880      America                                           9.755384           \n",
       "4881      America                                          10.452197           \n",
       "4882      America                                          10.800603           "
      ]
     },
     "execution_count": 13,
     "metadata": {},
     "output_type": "execute_result"
    }
   ],
   "source": [
    "Barbados_data = df.loc[ df['countriesAndTerritories']=='Barbados' ]\n",
    "\n",
    "Barbados_data[:10]"
   ]
  },
  {
   "cell_type": "markdown",
   "id": "952af808",
   "metadata": {},
   "source": [
    "# The Total Sum of COVID-19 Cases in Spain for 2020\n"
   ]
  },
  {
   "cell_type": "code",
   "execution_count": 14,
   "id": "1c335d29",
   "metadata": {},
   "outputs": [
    {
     "data": {
      "text/plain": [
       "292"
      ]
     },
     "execution_count": 14,
     "metadata": {},
     "output_type": "execute_result"
    }
   ],
   "source": [
    "Barbados_data.sum()['cases']\n"
   ]
  },
  {
   "cell_type": "code",
   "execution_count": 15,
   "id": "bcf570fb",
   "metadata": {},
   "outputs": [
    {
     "data": {
      "text/plain": [
       "7"
      ]
     },
     "execution_count": 15,
     "metadata": {},
     "output_type": "execute_result"
    }
   ],
   "source": [
    "Barbados_data.sum()['deaths']\n"
   ]
  },
  {
   "cell_type": "markdown",
   "id": "8b77a917",
   "metadata": {},
   "source": [
    "# The Trend of COVID-19 Cases in Spain Over Time"
   ]
  },
  {
   "cell_type": "markdown",
   "id": "a3e3471b",
   "metadata": {},
   "source": [
    "The total conforimed cases for Barbados for 2020 was 292 and the total confirmed deaths was 7. About 1.71% of those infected were killed by COVID-19.\n",
    "\n"
   ]
  },
  {
   "cell_type": "markdown",
   "id": "6a843987",
   "metadata": {},
   "source": [
    "The code shows the trend of cases over time in Barbados for 2020. The calculation used was by grouping the sum total of \"cases\" in to the different \"month\". Then displaying it as a line graph using the \"plot()\" code."
   ]
  },
  {
   "cell_type": "code",
   "execution_count": 17,
   "id": "4544657e",
   "metadata": {},
   "outputs": [],
   "source": [
    "sum_cases_per_day=Barbados_data.groupby('month').sum()['cases']\n"
   ]
  },
  {
   "cell_type": "code",
   "execution_count": 18,
   "id": "54189b87",
   "metadata": {},
   "outputs": [
    {
     "data": {
      "text/plain": [
       "<AxesSubplot:xlabel='month'>"
      ]
     },
     "execution_count": 18,
     "metadata": {},
     "output_type": "execute_result"
    },
    {
     "data": {
      "image/png": "[encoded data removed]",
      "text/plain": [
       "<Figure size 432x288 with 1 Axes>"
      ]
     },
     "metadata": {
      "needs_background": "light"
     },
     "output_type": "display_data"
    }
   ],
   "source": [
    "sum_cases_per_day.plot()\n"
   ]
  },
  {
   "cell_type": "markdown",
   "id": "2f4e58ac",
   "metadata": {},
   "source": [
    "For Barbados, at the beginning of 2020, they experienced zero cases, but when spring time came they experienced an increase in cases which peaked in April at over 60+ cases. From April to June Barbados began to see a decrease. June to November Spain saw a significant increase to the number of cases compared to the April peak at over 30+ cases, but then saw a significant decrease from November to December."
   ]
  },
  {
   "cell_type": "markdown",
   "id": "ec4ac7ca",
   "metadata": {},
   "source": [
    "# The Month with the Highest Number of COVID-19 Deaths in Barbados"
   ]
  },
  {
   "cell_type": "markdown",
   "id": "a77d8203",
   "metadata": {},
   "source": [
    "The code shows the month with the highest number of cases in Barbados for 2020 and dispaly the most to least starting on the left. The calulation used was by grouping the sum total of \"deaths\" into the different \"months\". Then dispalying it as a bar graph using \"plot.bar()\" and using \"nlargest(12)\" to put the 12 largest month first to allow easier visual comapring.\n",
    "\n"
   ]
  },
  {
   "cell_type": "code",
   "execution_count": 22,
   "id": "99cbf2d4",
   "metadata": {},
   "outputs": [],
   "source": [
    "sum_cases_by_month= Barbados_data.groupby('month').sum()['cases']"
   ]
  },
  {
   "cell_type": "code",
   "execution_count": 23,
   "id": "f0d39c1d",
   "metadata": {},
   "outputs": [
    {
     "data": {
      "text/plain": [
       "<AxesSubplot:xlabel='month'>"
      ]
     },
     "execution_count": 23,
     "metadata": {},
     "output_type": "execute_result"
    },
    {
     "data": {
      "image/png": "[encoded data removed]",
      "text/plain": [
       "<Figure size 432x288 with 1 Axes>"
      ]
     },
     "metadata": {
      "needs_background": "light"
     },
     "output_type": "display_data"
    }
   ],
   "source": [
    "sum_cases_by_month.plot.bar()  #Displaying months with highest number of cases in a bar graph"
   ]
  },
  {
   "cell_type": "markdown",
   "id": "57cc0c76",
   "metadata": {},
   "source": [
    "This bar graph is showing that there was a peak of 60+ cases in the month of August the highest experience of deaths than any other month with the second highest number of deaths was in October and Apirl. "
   ]
  },
  {
   "cell_type": "markdown",
   "id": "02df3570",
   "metadata": {},
   "source": [
    "# The Number of Deaths related to the Number of Cases in Barbados over time\n"
   ]
  },
  {
   "cell_type": "markdown",
   "id": "e13eaa01",
   "metadata": {},
   "source": [
    "The code shows the relationship between deaths and cases of COVID-19 in Barbados. The caluculation used was by dispalying the Barbados data in a scatter plot using the \"plot.scatter()\" code. Then spesfiying the x and y axis with \"cases\" and \"deaths\" using the code \"(x='cases',y='deaths').\" C was used to convey \"month.\""
   ]
  },
  {
   "cell_type": "code",
   "execution_count": 25,
   "id": "d018e8de",
   "metadata": {},
   "outputs": [
    {
     "data": {
      "text/plain": [
       "<AxesSubplot:xlabel='cases', ylabel='deaths'>"
      ]
     },
     "execution_count": 25,
     "metadata": {},
     "output_type": "execute_result"
    },
    {
     "data": {
      "image/png": "[encoded data removed]",
      "text/plain": [
       "<Figure size 432x288 with 1 Axes>"
      ]
     },
     "metadata": {
      "needs_background": "light"
     },
     "output_type": "display_data"
    }
   ],
   "source": [
    "Barbados_data.plot.scatter(x='cases', y='deaths')  #Comparing number of deaths and total population using a scatter plot\n"
   ]
  },
  {
   "cell_type": "code",
   "execution_count": 27,
   "id": "8dec493a",
   "metadata": {},
   "outputs": [
    {
     "data": {
      "text/plain": [
       "<AxesSubplot:xlabel='cases', ylabel='deaths'>"
      ]
     },
     "execution_count": 27,
     "metadata": {},
     "output_type": "execute_result"
    },
    {
     "data": {
      "image/png": "[encoded data removed]",
      "text/plain": [
       "<Figure size 432x288 with 2 Axes>"
      ]
     },
     "metadata": {
      "needs_background": "light"
     },
     "output_type": "display_data"
    }
   ],
   "source": [
    "Barbados_data.plot.scatter(x='cases',y='deaths',c='month')\n",
    "\n"
   ]
  },
  {
   "cell_type": "markdown",
   "id": "ad590a0e",
   "metadata": {},
   "source": [
    "Based on the above data, the higher the number of cases in Barbaados, the lower the amount of deaths that occur. The lower the number of cases, the higher number of deaths occur. This is an odd analysis.\n"
   ]
  },
  {
   "cell_type": "markdown",
   "id": "32bcd95d",
   "metadata": {},
   "source": [
    "# Conclusion"
   ]
  },
  {
   "cell_type": "markdown",
   "id": "8f475bdc",
   "metadata": {},
   "source": [
    "To summarize, Barbados' highest number of Covid-19 instances occurred in August 2020, followed by an unstable (too high) number of cases in December 2020. For the next few months, Barbados is projected to maintain a constant number of cases. Also, there was an intriguing contrast between the number of cases and the number of fatalities. This is very certainly due to data bias. My project's constraints were that I had only learned Python for one semester and was still a novice. I could have manipulated the data and arrived at a more informative result if I had more experience. Also, because I only have data through until December 2020, my analysis is limited.\n"
   ]
  },
  {
   "cell_type": "code",
   "execution_count": null,
   "id": "fb6569c1",
   "metadata": {},
   "outputs": [],
   "source": []
  }
 ],
 "metadata": {
  "kernelspec": {
   "display_name": "conda_python3",
   "language": "python",
   "name": "conda_python3"
  },
  "language_info": {
   "codemirror_mode": {
    "name": "ipython",
    "version": 3
   },
   "file_extension": ".py",
   "mimetype": "text/x-python",
   "name": "python",
   "nbconvert_exporter": "python",
   "pygments_lexer": "ipython3",
   "version": "3.6.13"
  }
 },
 "nbformat": 4,
 "nbformat_minor": 5
}
